{
 "cells": [
  {
   "cell_type": "markdown",
   "metadata": {},
   "source": [
    "## Classical Hopfield Network Demonstration on MNIST "
   ]
  },
  {
   "cell_type": "code",
   "execution_count": 121,
   "metadata": {},
   "outputs": [],
   "source": [
    "import numpy as np\n",
    "import pandas as pd\n",
    "import copy\n",
    "import matplotlib.pyplot as plt"
   ]
  },
  {
   "cell_type": "markdown",
   "metadata": {},
   "source": [
    "Some useful functions"
   ]
  },
  {
   "cell_type": "code",
   "execution_count": 122,
   "metadata": {},
   "outputs": [],
   "source": [
    "# Useful functions\n",
    "def IsScalar(x):\n",
    "    if type(x) in (list, np.ndarray,):\n",
    "        return False\n",
    "    else:\n",
    "        return True\n",
    "\n",
    "def Thresh(x):\n",
    "    if IsScalar(x):\n",
    "        val = 1 if x>0 else -1\n",
    "    else:\n",
    "        val = np.ones_like(x)\n",
    "        val[x<0] = -1.\n",
    "        '''\n",
    "        x < 0 This creates a boolean array of the same shape as x, where each element is True if the corresponding element in x is less than 0, and False otherwise.\n",
    "        val[x < 0]: This selects the elements in val where the condition x < 0 is True\n",
    "        = -1.: This assigns the value -1. to all selected elements.\n",
    "        '''\n",
    "    return val\n",
    "\n",
    "def Hamming(x, y):\n",
    "    '''\n",
    "        d = Hamming(x,y)\n",
    "        \n",
    "        Hamming distance between two binary vectors x and y.\n",
    "        It's the number of digits that differ.\n",
    "        \n",
    "        Inputs:\n",
    "          x and y are arrays of binary vectors, and can be either {0,1} or {-1,1}\n",
    "        \n",
    "        Output:\n",
    "          d is the number of places where the inputs differ\n",
    "    '''\n",
    "    d = []\n",
    "    for xx, yy in zip(x,y):\n",
    "        dd = 0.\n",
    "        for xxx,yyy in zip(xx,yy):\n",
    "            if xxx==1 and yyy!=1:\n",
    "                dd += 1.\n",
    "            elif yyy==1 and xxx!=1:\n",
    "                dd += 1.\n",
    "        d.append(dd)\n",
    "    return d\n",
    "\n",
    "def Perturb(x, p=0.1):\n",
    "    '''\n",
    "        y = Perturb(x, p=0.1)\n",
    "        \n",
    "        Apply binary noise to x. With probability p, each bit will be randomly\n",
    "        set to -1 or 1.\n",
    "        \n",
    "        Inputs:\n",
    "          x is an array of binary vectors of {-1,1}\n",
    "          p is the probability of each bit being randomly flipped\n",
    "        \n",
    "        Output:\n",
    "          y is an array of binary vectors of {-1,1}\n",
    "    '''\n",
    "    y = copy.deepcopy(x)\n",
    "    for yy in y:\n",
    "        for k in range(len(yy)):\n",
    "            if np.random.rand()<p:\n",
    "                yy[k] = Thresh(np.random.randint(2)*2-1)\n",
    "    return y"
   ]
  },
  {
   "cell_type": "code",
   "execution_count": 123,
   "metadata": {},
   "outputs": [],
   "source": [
    "class Hopfield_Net: #network class\n",
    "    #init ialize network variables and memory\n",
    "    def __init__(self,input):\n",
    "        #patterns for network training / retrieval\n",
    "        print(input.shape)\n",
    "        self.memory = np.array(input)\n",
    "        print(self.memory.shape)\n",
    "        #single vs. multiple memories\n",
    "        if  self.memory.size > 1:\n",
    "            self.n = self.memory.shape[1] \n",
    "        else:\n",
    "            self.n = len(self.memory)\n",
    "        #network construction\n",
    "        self.state = np.random.randint(-2,2,(self.n,1)) #state vector\n",
    "        self.weights = np.zeros((self.n,self.n)) #weights vector\n",
    "        self.energies = [] #container for tracking of energy\n",
    "    \n",
    "    def insert_state(self,new_state):\n",
    "        #self.state=new_state\n",
    "        self.state=copy.deepcopy(new_state)\n",
    "\n",
    "    def network_learning(self): #learn the pattern / patterns\n",
    "        #self.weights = (1 / self.memory.shape[0]) * self.memory.T @ self.memory #hebbian learning\n",
    "        #np.fill_diagonal(self.weights,0)\n",
    "        self.weights = ( self.memory.T @ self.memory ) / np.shape(self.memory)[0] - np.eye(np.shape(self.memory)[1]) \n",
    "\n",
    "    def update_network_state(self,n_update): #update network\n",
    "        for neuron in range(n_update): #update n neurons randomly\n",
    "            self.rand_index = np.random.randint(0,self.n) #pick a random neuron in the state vector\n",
    "            #Compute activation for randomly indexed neuron\n",
    "            self.index_activation = np.dot(self.weights[self.rand_index,:],self.state) \n",
    "            #threshold function for binary state change\n",
    "            if self.index_activation < 0: \n",
    "                self.state[self.rand_index] = -1\n",
    "            else:\n",
    "                self.state[self.rand_index] =  1\n",
    "\n",
    "    def compute_energy(self): #compute energy\n",
    "        self.energy = -0.5*np.dot(np.dot(self.state.T,self.weights),self.state)\n",
    "        self.energies.append(self.energy)"
   ]
  },
  {
   "cell_type": "markdown",
   "metadata": {},
   "source": [
    "Read the csv MNIST data"
   ]
  },
  {
   "cell_type": "code",
   "execution_count": 124,
   "metadata": {},
   "outputs": [
    {
     "name": "stdout",
     "output_type": "stream",
     "text": [
      "10\n"
     ]
    },
    {
     "name": "stderr",
     "output_type": "stream",
     "text": [
      "/tmp/ipykernel_341117/379460863.py:12: DeprecationWarning: DataFrameGroupBy.apply operated on the grouping columns. This behavior is deprecated, and in a future version of pandas the grouping columns will be excluded from the operation. Either pass `include_groups=False` to exclude the groupings or explicitly select the grouping columns after groupby to silence this warning.\n",
      "  sampled_df = df.groupby(df.columns[0], group_keys=False).apply(lambda x: safe_sample(x, n=1)).reset_index(drop=True)\n"
     ]
    }
   ],
   "source": [
    "# Load the data\n",
    "df = pd.read_csv('./mnist_test.csv',skiprows=1)\n",
    "\n",
    "# Function to sample with handling for labels with fewer than 10 samples\n",
    "def safe_sample(group, n):\n",
    "    if len(group) < n:\n",
    "        return group\n",
    "    return group.sample(n=n, random_state=1)\n",
    "\n",
    "# Group by the first column (label) and sample 10 entries for each label (if available)\n",
    "#sampled_df = df.groupby(df.columns[0]).apply(lambda x: safe_sample(x, n=1)).reset_index(drop=True)\n",
    "sampled_df = df.groupby(df.columns[0], group_keys=False).apply(lambda x: safe_sample(x, n=1)).reset_index(drop=True)\n",
    "sampled_df = sampled_df.drop(columns=[df.columns[0]])\n",
    "\n",
    "X = sampled_df.values\n",
    "X = np.where(X>20, 1,-1)\n",
    "print(len(X))"
   ]
  },
  {
   "cell_type": "code",
   "execution_count": 125,
   "metadata": {},
   "outputs": [
    {
     "name": "stdout",
     "output_type": "stream",
     "text": [
      "(10, 784)\n",
      "(10, 3136)\n"
     ]
    }
   ],
   "source": [
    "#def transform_pattern(pattern):\n",
    "#    return np.repeat(pattern, 4)\n",
    "#\n",
    "#transformed_data = np.array([transform_pattern(row) for row in X])\n",
    "#X=transformed_data\n",
    "\n",
    "def upscale_image_nn(image, scale_factor):\n",
    "    original_height, original_width = image.shape\n",
    "    new_height, new_width = original_height * scale_factor, original_width * scale_factor\n",
    "\n",
    "    # Create an empty array for the upscaled image\n",
    "    upscaled_image = np.zeros((new_height, new_width))\n",
    "\n",
    "    # Fill the upscaled image using nearest-neighbor interpolation\n",
    "    for i in range(new_height):\n",
    "        for j in range(new_width):\n",
    "            # Find the nearest pixel in the original image\n",
    "            original_i = i // scale_factor\n",
    "            original_j = j // scale_factor\n",
    "            upscaled_image[i, j] = image[original_i, original_j]\n",
    "\n",
    "    return upscaled_image\n",
    "\n",
    "a=0\n",
    "image_arr=[]\n",
    "while a<len(X):\n",
    "    shape=len(X[a])\n",
    "    image=X[a].reshape(int(np.sqrt(len(X[a]))),int(np.sqrt(len(X[a]))))\n",
    "    image=upscale_image_nn(image,2)\n",
    "    image=image.reshape(-1)\n",
    "    #print(image.shape)\n",
    "    #print(X[a].shape)\n",
    "    image_arr.append(image)\n",
    "    #X[a]=copy.deepcopy(image)\n",
    "    a+=1\n",
    "#print(X.shape)\n",
    "print(X.shape)\n",
    "image_arr=np.array(image_arr)\n",
    "print(image_arr.shape)\n",
    "X=image_arr\n"
   ]
  },
  {
   "cell_type": "code",
   "execution_count": 126,
   "metadata": {},
   "outputs": [
    {
     "name": "stdout",
     "output_type": "stream",
     "text": [
      "(3136, 1)\n",
      "(3136,)\n"
     ]
    },
    {
     "data": {
      "text/plain": [
       "<matplotlib.image.AxesImage at 0x728db3c32a20>"
      ]
     },
     "execution_count": 126,
     "metadata": {},
     "output_type": "execute_result"
    },
    {
     "data": {
      "image/png": "[encoded data removed]",
      "text/plain": [
       "<Figure size 640x480 with 2 Axes>"
      ]
     },
     "metadata": {},
     "output_type": "display_data"
    }
   ],
   "source": [
    "# Perturbed memory\n",
    "def add_corruption(X_orig):\n",
    "    x = copy.deepcopy(X_orig)\n",
    "    k = np.random.randint(len(x)) #selects one of the row to test the network against\n",
    "    Y = Perturb(x,p=0.2) # corrupts the selected row data\n",
    "    x = Y[k:k+1,]\n",
    "    err = Hamming(x,X_orig[k:k+1,:]) # checks the error between corrupted and correct data\n",
    "    #print('Class '+str(k)+' with '+str(err)+' errors')\n",
    "    return x.T,k\n",
    "\n",
    "X_new=X[4:6]\n",
    "\n",
    "x_corrupt,k=add_corruption(X_new)\n",
    "\n",
    "print(x_corrupt.shape)\n",
    "print(X_new[k].shape)\n",
    "plt.subplot(1, 2, 1)\n",
    "plt.title(\"Original Image\")\n",
    "plt.imshow(X_new[k].reshape(int(np.sqrt(len(X_new[k]))),int(np.sqrt(len(X_new[k])))), cmap='gray')\n",
    "plt.subplot(1, 2, 2)\n",
    "plt.title(\"Corrupted Image\")\n",
    "plt.imshow(x_corrupt.reshape(int(np.sqrt(len(x_corrupt))),int(np.sqrt(len(x_corrupt)))), cmap='gray')\n"
   ]
  },
  {
   "cell_type": "code",
   "execution_count": 127,
   "metadata": {},
   "outputs": [
    {
     "name": "stdout",
     "output_type": "stream",
     "text": [
      "2\n",
      "1\n",
      "(2, 3136)\n",
      "(2, 3136)\n"
     ]
    },
    {
     "name": "stdout",
     "output_type": "stream",
     "text": [
      "(3136, 1)\n"
     ]
    },
    {
     "data": {
      "text/plain": [
       "<matplotlib.image.AxesImage at 0x728db3c74ad0>"
      ]
     },
     "execution_count": 127,
     "metadata": {},
     "output_type": "execute_result"
    },
    {
     "data": {
      "image/png": "[encoded data removed]",
      "text/plain": [
       "<Figure size 640x480 with 1 Axes>"
      ]
     },
     "metadata": {},
     "output_type": "display_data"
    }
   ],
   "source": [
    "print(len(X_new))\n",
    "print(k)\n",
    "#H_Net = Hopfield_Net(np.array([X[k]]))\n",
    "H_Net = Hopfield_Net(X_new)\n",
    "H_Net.network_learning()\n",
    "H_Net.insert_state(x_corrupt)\n",
    "H_Net.update_network_state(64000) #6400000\n",
    "H_Net.compute_energy()\n",
    "plt.subplot(1, 2, 1)\n",
    "plt.title(\"Reconstructed Image\")\n",
    "#ri=H_Net.state\n",
    "cells = H_Net.state.reshape(int(np.sqrt(len(X_new[k]))),int(np.sqrt(len(X_new[k]))))\n",
    "print(H_Net.state.shape)\n",
    "plt.imshow(cells, cmap='gray')"
   ]
  },
  {
   "cell_type": "code",
   "execution_count": 128,
   "metadata": {},
   "outputs": [
    {
     "name": "stdout",
     "output_type": "stream",
     "text": [
      "test\n"
     ]
    }
   ],
   "source": [
    "print(\"test\")"
   ]
  }
 ],
 "metadata": {
  "kernelspec": {
   "display_name": "hopfield",
   "language": "python",
   "name": "python3"
  },
  "language_info": {
   "codemirror_mode": {
    "name": "ipython",
    "version": 3
   },
   "file_extension": ".py",
   "mimetype": "text/x-python",
   "name": "python",
   "nbconvert_exporter": "python",
   "pygments_lexer": "ipython3",
   "version": "3.12.3"
  }
 },
 "nbformat": 4,
 "nbformat_minor": 2
}
