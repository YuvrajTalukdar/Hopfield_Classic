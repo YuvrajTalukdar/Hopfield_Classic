{
 "cells": [
  {
   "cell_type": "code",
   "execution_count": 1,
   "metadata": {},
   "outputs": [],
   "source": [
    "import numpy as np\n",
    "import pandas as pd\n",
    "import matplotlib.pyplot as plt\n",
    "import copy"
   ]
  },
  {
   "cell_type": "code",
   "execution_count": 2,
   "metadata": {},
   "outputs": [],
   "source": [
    "# Useful functions\n",
    "def IsScalar(x):\n",
    "    if type(x) in (list, np.ndarray,):\n",
    "        return False\n",
    "    else:\n",
    "        return True\n",
    "\n",
    "def Thresh(x):\n",
    "    if IsScalar(x):\n",
    "        val = 1 if x>0 else -1\n",
    "    else:\n",
    "        val = np.ones_like(x)\n",
    "        val[x<0] = -1.\n",
    "        '''\n",
    "        x < 0 This creates a boolean array of the same shape as x, where each element is True if the corresponding element in x is less than 0, and False otherwise.\n",
    "        val[x < 0]: This selects the elements in val where the condition x < 0 is True\n",
    "        = -1.: This assigns the value -1. to all selected elements.\n",
    "        '''\n",
    "    return val\n",
    "\n",
    "def Hamming(x, y):\n",
    "    '''\n",
    "        d = Hamming(x,y)\n",
    "        \n",
    "        Hamming distance between two binary vectors x and y.\n",
    "        It's the number of digits that differ.\n",
    "        \n",
    "        Inputs:\n",
    "          x and y are arrays of binary vectors, and can be either {0,1} or {-1,1}\n",
    "        \n",
    "        Output:\n",
    "          d is the number of places where the inputs differ\n",
    "    '''\n",
    "    d = []\n",
    "    for xx, yy in zip(x,y):\n",
    "        dd = 0.\n",
    "        for xxx,yyy in zip(xx,yy):\n",
    "            if xxx==1 and yyy!=1:\n",
    "                dd += 1.\n",
    "            elif yyy==1 and xxx!=1:\n",
    "                dd += 1.\n",
    "        d.append(dd)\n",
    "    return d\n",
    "\n",
    "def Perturb(x, p=0.1):\n",
    "    '''\n",
    "        y = Perturb(x, p=0.1)\n",
    "        \n",
    "        Apply binary noise to x. With probability p, each bit will be randomly\n",
    "        set to -1 or 1.\n",
    "        \n",
    "        Inputs:\n",
    "          x is an array of binary vectors of {-1,1}\n",
    "          p is the probability of each bit being randomly flipped\n",
    "        \n",
    "        Output:\n",
    "          y is an array of binary vectors of {-1,1}\n",
    "    '''\n",
    "    y = copy.deepcopy(x)\n",
    "    for yy in y:\n",
    "        for k in range(len(yy)):\n",
    "            if np.random.rand()<p:\n",
    "                yy[k] = Thresh(np.random.randint(2)*2-1)\n",
    "    return y"
   ]
  },
  {
   "cell_type": "markdown",
   "metadata": {},
   "source": [
    "Toy Dataset"
   ]
  },
  {
   "cell_type": "code",
   "execution_count": 4,
   "metadata": {},
   "outputs": [
    {
     "data": {
      "text/plain": [
       "(4, 16)"
      ]
     },
     "execution_count": 4,
     "metadata": {},
     "output_type": "execute_result"
    }
   ],
   "source": [
    "# 4 Orthogonal Vectors\n",
    "X = np.array([[ 1,  1,  1,  1,  1,  1,  1,  1, -1, -1, -1, -1, -1, -1, -1, -1],\n",
    "              [ 1,  1,  1,  1, -1, -1, -1, -1,  1,  1,  1,  1, -1, -1, -1, -1],\n",
    "              [ 1, -1,  1, -1,  1, -1,  1, -1,  1, -1,  1, -1,  1, -1,  1, -1],\n",
    "              [ 1,  1, -1, -1,  1,  1, -1, -1,  1,  1, -1, -1,  1,  1, -1, -1],\n",
    "             ])\n",
    "N = np.shape(X)[1]\n",
    "n = np.shape(X)[0]\n",
    "np.shape(X)"
   ]
  },
  {
   "cell_type": "markdown",
   "metadata": {},
   "source": [
    "Bipolar Weight Matrix"
   ]
  },
  {
   "cell_type": "code",
   "execution_count": 6,
   "metadata": {},
   "outputs": [
    {
     "data": {
      "image/png": "[encoded data removed]",
      "text/plain": [
       "<Figure size 640x480 with 1 Axes>"
      ]
     },
     "metadata": {},
     "output_type": "display_data"
    }
   ],
   "source": [
    "def generate_bipolar_weight():\n",
    "    # Connection weights and biases\n",
    "    #b = np.zeros((1,N))\n",
    "    b = np.sum(X, axis=0) / n\n",
    "    W = ( X.T @ X ) / n - np.eye(N)\n",
    "    #W0 = copy.deepcopy(W)\n",
    "    return W,b\n",
    "\n",
    "W,b=generate_bipolar_weight()\n",
    "plt.subplot(121); plt.imshow(W, cmap='gray'); plt.axis('off');"
   ]
  },
  {
   "cell_type": "code",
   "execution_count": 75,
   "metadata": {},
   "outputs": [],
   "source": [
    "def Update(W, x, b):\n",
    "    xnew = x @ W - b\n",
    "    return Thresh(xnew)"
   ]
  },
  {
   "cell_type": "code",
   "execution_count": 82,
   "metadata": {},
   "outputs": [
    {
     "name": "stdout",
     "output_type": "stream",
     "text": [
      "Class 0 with [4.0] errors\n",
      "[[-1  1 -1  1  1  1 -1  1 -1 -1 -1 -1 -1 -1 -1  1]]\n",
      "Inner Products: [[ 8 -4 -8  0]]\n"
     ]
    }
   ],
   "source": [
    "# Perturbed memory\n",
    "k = np.random.randint(len(X))\n",
    "Y = Perturb( X , p=0.4 )\n",
    "x = Y[k:k+1,]\n",
    "err = Hamming(x, X[k:k+1,:])\n",
    "print('Class '+str(k)+' with '+str(err)+' errors')\n",
    "x_orig = copy.deepcopy(x)\n",
    "print(x_orig)\n",
    "\n",
    "# Notice how the inner product of the perturbed vector is almost\n",
    "# othogonal to all the other equilibria. ie. relatively close to zero\n",
    "print('Inner Products: '+str(x@X.T))"
   ]
  },
  {
   "cell_type": "code",
   "execution_count": 83,
   "metadata": {},
   "outputs": [
    {
     "name": "stdout",
     "output_type": "stream",
     "text": [
      "[5.0]\n",
      "[1.0]\n",
      "[0.0]\n",
      "[0.0]\n",
      "[0.0]\n",
      "[0.0]\n",
      "[0.0]\n",
      "[0.0]\n",
      "[0.0]\n",
      "[0.0]\n"
     ]
    }
   ],
   "source": [
    "if True:\n",
    "    x = copy.deepcopy(x_orig)\n",
    "    n_iters = 10\n",
    "    for k in range(n_iters):\n",
    "        #print(x)\n",
    "        x_new = Update(W, x, b)\n",
    "        print(Hamming(x, x_new))\n",
    "        x = x_new"
   ]
  },
  {
   "cell_type": "code",
   "execution_count": 84,
   "metadata": {},
   "outputs": [
    {
     "name": "stdout",
     "output_type": "stream",
     "text": [
      "Memory 0 has error 8.0\n",
      "Memory 1 has error 8.0\n",
      "Memory 2 has error 16.0\n",
      "Memory 3 has error 8.0\n"
     ]
    }
   ],
   "source": [
    "for idx,t in enumerate(X):\n",
    "    d = Hamming(x, [t])[0]\n",
    "    print('Memory '+str(idx)+' has error '+str(d))"
   ]
  }
 ],
 "metadata": {
  "kernelspec": {
   "display_name": "hopfield",
   "language": "python",
   "name": "python3"
  },
  "language_info": {
   "codemirror_mode": {
    "name": "ipython",
    "version": 3
   },
   "file_extension": ".py",
   "mimetype": "text/x-python",
   "name": "python",
   "nbconvert_exporter": "python",
   "pygments_lexer": "ipython3",
   "version": "3.12.3"
  }
 },
 "nbformat": 4,
 "nbformat_minor": 2
}
