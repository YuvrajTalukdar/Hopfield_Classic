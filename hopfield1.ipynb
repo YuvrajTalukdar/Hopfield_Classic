{
 "cells": [
  {
   "cell_type": "markdown",
   "metadata": {},
   "source": [
    "## Classical Hopfield Network Demonstration"
   ]
  },
  {
   "cell_type": "code",
   "execution_count": 1982,
   "metadata": {},
   "outputs": [],
   "source": [
    "import numpy as np\n",
    "import pandas as pd\n",
    "import matplotlib.pyplot as plt\n",
    "import copy"
   ]
  },
  {
   "cell_type": "markdown",
   "metadata": {},
   "source": [
    "Some Useful Functions"
   ]
  },
  {
   "cell_type": "code",
   "execution_count": 1983,
   "metadata": {},
   "outputs": [],
   "source": [
    "# Useful functions\n",
    "def IsScalar(x):\n",
    "    if type(x) in (list, np.ndarray,):\n",
    "        return False\n",
    "    else:\n",
    "        return True\n",
    "\n",
    "def Thresh(x):\n",
    "    if IsScalar(x):\n",
    "        val = 1 if x>0 else -1\n",
    "    else:\n",
    "        val = np.ones_like(x)\n",
    "        val[x<0] = -1.\n",
    "        '''\n",
    "        x < 0 This creates a boolean array of the same shape as x, where each element is True if the corresponding element in x is less than 0, and False otherwise.\n",
    "        val[x < 0]: This selects the elements in val where the condition x < 0 is True\n",
    "        = -1.: This assigns the value -1. to all selected elements.\n",
    "        '''\n",
    "    return val\n",
    "\n",
    "def Hamming(x, y):\n",
    "    '''\n",
    "        d = Hamming(x,y)\n",
    "        \n",
    "        Hamming distance between two binary vectors x and y.\n",
    "        It's the number of digits that differ.\n",
    "        \n",
    "        Inputs:\n",
    "          x and y are arrays of binary vectors, and can be either {0,1} or {-1,1}\n",
    "        \n",
    "        Output:\n",
    "          d is the number of places where the inputs differ\n",
    "    '''\n",
    "    d = []\n",
    "    for xx, yy in zip(x,y):\n",
    "        dd = 0.\n",
    "        for xxx,yyy in zip(xx,yy):\n",
    "            if xxx==1 and yyy!=1:\n",
    "                dd += 1.\n",
    "            elif yyy==1 and xxx!=1:\n",
    "                dd += 1.\n",
    "        d.append(dd)\n",
    "    return d\n",
    "\n",
    "def Perturb(x, p=0.1):\n",
    "    '''\n",
    "        y = Perturb(x, p=0.1)\n",
    "        \n",
    "        Apply binary noise to x. With probability p, each bit will be randomly\n",
    "        set to -1 or 1.\n",
    "        \n",
    "        Inputs:\n",
    "          x is an array of binary vectors of {-1,1}\n",
    "          p is the probability of each bit being randomly flipped\n",
    "        \n",
    "        Output:\n",
    "          y is an array of binary vectors of {-1,1}\n",
    "    '''\n",
    "    y = copy.deepcopy(x)\n",
    "    for yy in y:\n",
    "        for k in range(len(yy)):\n",
    "            if np.random.rand()<p:\n",
    "                yy[k] = Thresh(np.random.randint(2)*2-1)\n",
    "    return y"
   ]
  },
  {
   "cell_type": "markdown",
   "metadata": {},
   "source": [
    "Toy Data"
   ]
  },
  {
   "cell_type": "code",
   "execution_count": 1984,
   "metadata": {},
   "outputs": [
    {
     "data": {
      "text/plain": [
       "'\\nHere each row is one pattern\\n'"
      ]
     },
     "execution_count": 1984,
     "metadata": {},
     "output_type": "execute_result"
    }
   ],
   "source": [
    "# 4 Orthogonal Vectors\n",
    "X = np.array([[ 1,  1,  1,  1,  1,  1,  1,  1, -1, -1, -1, -1, -1, -1, -1, -1],\n",
    "              [ 1,  1,  1,  1, -1, -1, -1, -1,  1,  1,  1,  1, -1, -1, -1, -1],\n",
    "              [ 1, -1,  1, -1,  1, -1,  1, -1,  1, -1,  1, -1,  1, -1,  1, -1],\n",
    "              [ 1,  1, -1, -1,  1,  1, -1, -1,  1,  1, -1, -1,  1,  1, -1, -1],\n",
    "             ])\n",
    "N = np.shape(X)[1]\n",
    "n = np.shape(X)[0]\n",
    "np.shape(X)\n",
    "'''\n",
    "Here each row is one pattern\n",
    "'''"
   ]
  },
  {
   "cell_type": "code",
   "execution_count": 1985,
   "metadata": {},
   "outputs": [
    {
     "data": {
      "image/png": "[encoded data removed]",
      "text/plain": [
       "<Figure size 640x480 with 1 Axes>"
      ]
     },
     "metadata": {},
     "output_type": "display_data"
    }
   ],
   "source": [
    "def generate_bipolar_weight(X):\n",
    "    # Connection weights and biases\n",
    "    #b = np.zeros((1,N))\n",
    "    #b = np.sum(X, axis=0) / n\n",
    "    #W = ( X.T @ X ) / n - np.eye(N) \n",
    "    W = ( X.T @ X ) / np.shape(X)[0] - np.eye(np.shape(X)[1]) \n",
    "    #W0 = copy.deepcopy(W)\n",
    "    return W\n",
    "\n",
    "W=generate_bipolar_weight(X)\n",
    "#print(W)\n",
    "plt.subplot(121); plt.imshow(W, cmap='gray'); plt.axis('off');"
   ]
  },
  {
   "cell_type": "code",
   "execution_count": 1986,
   "metadata": {},
   "outputs": [],
   "source": [
    "def Update(W, x):\n",
    "    xnew = x @ W\n",
    "    return Thresh(xnew)\n",
    "\n",
    "def ittrate(x_orig,n_iters=10):\n",
    "    x = copy.deepcopy(x_orig)\n",
    "    for k in range(n_iters):\n",
    "        #print(x)\n",
    "        x_new = Update(W, x)\n",
    "        #print(Hamming(x, x_new))\n",
    "        x = x_new"
   ]
  },
  {
   "cell_type": "markdown",
   "metadata": {},
   "source": [
    "Corrupting the test data and calling itterate "
   ]
  },
  {
   "cell_type": "code",
   "execution_count": 1987,
   "metadata": {},
   "outputs": [],
   "source": [
    "# Perturbed memory\n",
    "def add_corruption():\n",
    "    k = np.random.randint(len(X)) #selects one of the row to test the network against\n",
    "    Y = Perturb( X , p=0.4 ) # corrupts the selected row data\n",
    "    x = Y[k:k+1,]\n",
    "    err = Hamming(x, X[k:k+1,:]) # checks the error between corrupted and correct data\n",
    "    #print('Class '+str(k)+' with '+str(err)+' errors')\n",
    "    x_orig = copy.deepcopy(x)\n",
    "    #print(x_orig)\n",
    "\n",
    "    # Notice how the inner product of the perturbed vector is almost\n",
    "    # othogonal to all the other equilibria. ie. relatively close to zero\n",
    "    #print('Inner Products: '+str(x@X.T))\n",
    "    return k,x,x_orig"
   ]
  },
  {
   "cell_type": "markdown",
   "metadata": {},
   "source": [
    "How close are we to recalling a memory?"
   ]
  },
  {
   "cell_type": "code",
   "execution_count": 1988,
   "metadata": {},
   "outputs": [],
   "source": [
    "def list_errors(x):\n",
    "    errors=[]\n",
    "    for idx,t in enumerate(X):\n",
    "        d = Hamming(x, [t])[0]\n",
    "        #print('Memory '+str(idx)+' has error '+str(d))\n",
    "        errors.append([idx,d])\n",
    "    return errors"
   ]
  },
  {
   "cell_type": "markdown",
   "metadata": {},
   "source": [
    "Calculate the probability of getting correct result"
   ]
  },
  {
   "cell_type": "code",
   "execution_count": 1989,
   "metadata": {},
   "outputs": [
    {
     "name": "stdout",
     "output_type": "stream",
     "text": [
      "probability: 0.96\n"
     ]
    }
   ],
   "source": [
    "#k,x=add_corruption()\n",
    "#ittrate(10)\n",
    "#list_errors()\n",
    "\n",
    "def evaluate_probability(n_times):\n",
    "    correct=0\n",
    "    total=n_times\n",
    "    for a in range(n_times):\n",
    "        k,x,x_orig=add_corruption()\n",
    "        ittrate(x_orig,10)\n",
    "        errors=list_errors(x)\n",
    "        errors.sort(key=lambda x: x[1])\n",
    "        if errors[0][0]==k:\n",
    "            correct+=1\n",
    "        #print(errors)\n",
    "    return correct/total\n",
    "\n",
    "probability=evaluate_probability(50)\n",
    "print(\"probability: \"+str(probability))"
   ]
  },
  {
   "cell_type": "markdown",
   "metadata": {},
   "source": [
    "Lets see what happens when we increase the no of patterns"
   ]
  },
  {
   "cell_type": "code",
   "execution_count": 1990,
   "metadata": {},
   "outputs": [
    {
     "data": {
      "text/plain": [
       "(23, 16)"
      ]
     },
     "execution_count": 1990,
     "metadata": {},
     "output_type": "execute_result"
    }
   ],
   "source": [
    "# 4 Orthogonal Vectors\n",
    "X = np.array([[ 1,  1,  1,  1,  1,  1,  1,  1, -1, -1, -1, -1, -1, -1, -1, -1],\n",
    "              [ 1,  1,  1,  1, -1, -1, -1, -1,  1,  1,  1,  1, -1, -1, -1, -1],\n",
    "              [ 1, -1,  1, -1,  1, -1,  1, -1,  1, -1,  1, -1,  1, -1,  1, -1],\n",
    "              [ 1,  1, -1, -1,  1,  1, -1, -1,  1,  1, -1, -1,  1,  1, -1, -1],\n",
    "              [ 1,  1,  1, -1,  1,  1, -1,  1, -1, -1, -1, -1,  1,  1, -1, -1],\n",
    "              [ 1,  1, -1, -1,  1,  1,  1, -1,  1,  1,  1, -1,  1,  1, -1,  1],\n",
    "              [ 1,  1, -1,  1,  1,  1, -1,  1,  1,  1,  1, -1,  1,  1, -1, -1],\n",
    "              [-1,  1, -1,  1,  1, -1,  1,  1,  1,  1, -1, -1,  1, -1, -1,  1],\n",
    "              [ 1,  1,  1,  1,  1,  1,  1, -1,  1, -1,  1,  1,  1,  1,  1, -1],\n",
    "              [ 1, -1,  1, -1,  1,  1, -1,  1,  1, -1,  1,  1, -1,  1, -1,  1],\n",
    "              [-1,  1, -1, -1, -1, -1,  1,  1,  1,  1, -1, -1,  1, -1,  1,  1],\n",
    "              [ 1,  1,  1,  1,  1,  1, -1, -1,  1, -1,  1,  1, -1,  1, -1, -1],\n",
    "              [ 1, -1,  1, -1,  1,  1,  1, -1,  1,  1,  1, -1, -1,  1,  1,  1],\n",
    "              [-1,  1, -1, -1,  1, -1, -1, -1,  1,  1, -1,  1, -1, -1,  1,  1],\n",
    "              [ 1,  1, -1,  1, -1,  1, -1,  1,  1, -1,  1, -1, -1,  1,  1, -1],\n",
    "              [ 1, -1,  1, -1,  1, -1, -1,  1, -1,  1,  1,  1,  1,  1, -1,  1],\n",
    "              [-1,  1,  1,  1,  1, -1,  1, -1, -1,  1, -1,  1, -1, -1,  1,  1],\n",
    "              [-1, -1,  1, -1,  1,  1, -1,  1,  1, -1,  1,  1,  1,  1, -1, -1],\n",
    "              [-1,  1, -1,  1, -1,  1, -1,  1, -1, -1, -1,  1, -1,  1, -1,  1],\n",
    "              [ 1, -1,  1,  1, -1, -1, -1, -1,  1, -1,  1, -1, -1,  1,  1, -1],\n",
    "              [ 1, -1, -1,  1,  1, -1,  1, -1,  1,  1,  1, -1,  1, -1,  1, -1],\n",
    "              [-1, -1, -1,  1, -1, -1,  1,  1, -1,  1,  1,  1,  1, -1, -1,  1],\n",
    "              [ 1, -1,  1,  1, -1, -1,  1,  1, -1, -1, -1, -1, -1,  1,  1, -1],\n",
    "             ])\n",
    "N = np.shape(X)[1]\n",
    "n = np.shape(X)[0]\n",
    "np.shape(X)"
   ]
  },
  {
   "cell_type": "markdown",
   "metadata": {},
   "source": [
    "As we have seen the probability of getting correct result decreases"
   ]
  },
  {
   "cell_type": "code",
   "execution_count": 1991,
   "metadata": {},
   "outputs": [
    {
     "name": "stdout",
     "output_type": "stream",
     "text": [
      "probability: 0.68\n"
     ]
    },
    {
     "data": {
      "image/png": "[encoded data removed]",
      "text/plain": [
       "<Figure size 640x480 with 1 Axes>"
      ]
     },
     "metadata": {},
     "output_type": "display_data"
    }
   ],
   "source": [
    "W=generate_bipolar_weight(X)\n",
    "#print(W)\n",
    "plt.subplot(121); plt.imshow(W, cmap='gray'); plt.axis('off');\n",
    "\n",
    "probability=evaluate_probability(50)\n",
    "print(\"probability: \"+str(probability))"
   ]
  },
  {
   "cell_type": "markdown",
   "metadata": {},
   "source": [
    "One way to increase the probability is to increase the no of neurons , for this to happen we need to increase the dimensions "
   ]
  },
  {
   "cell_type": "markdown",
   "metadata": {},
   "source": [
    "### Attempt 1\n",
    "\n",
    "We concatenate the data row by \"concat_times\""
   ]
  },
  {
   "cell_type": "code",
   "execution_count": 1992,
   "metadata": {},
   "outputs": [
    {
     "name": "stdout",
     "output_type": "stream",
     "text": [
      "probability: 0.92\n"
     ]
    },
    {
     "data": {
      "image/png": "[encoded data removed]",
      "text/plain": [
       "<Figure size 640x480 with 1 Axes>"
      ]
     },
     "metadata": {},
     "output_type": "display_data"
    }
   ],
   "source": [
    "#original_data = np.random.randint(0, 2, (10, 16))\n",
    "\n",
    "# Transform data to add more attributes (e.g., square the values and concatenate)\n",
    "X_orig=copy.deepcopy(X)\n",
    "concat_times=3 #try to change this value , use odd numbers for better results\n",
    "X = np.concatenate([X_orig, X_orig**concat_times], axis=1)\n",
    "\n",
    "W=generate_bipolar_weight(X)\n",
    "#print(W)\n",
    "plt.subplot(121); plt.imshow(W, cmap='gray'); plt.axis('off');\n",
    "\n",
    "probability=evaluate_probability(50)\n",
    "print(\"probability: \"+str(probability))\n",
    "\n",
    "#print(\"Original data shape:\", X_orig)  # (10, 16)\n",
    "#print(\"Expanded data shape:\", X)  # (10, 32)\n",
    "\n"
   ]
  },
  {
   "cell_type": "markdown",
   "metadata": {},
   "source": [
    "### Attempt 2\n",
    "We repeate each attribute twice, its like dumb upscaling of an image with any fancy ai dlss fsr tech"
   ]
  },
  {
   "cell_type": "code",
   "execution_count": 1993,
   "metadata": {},
   "outputs": [
    {
     "name": "stdout",
     "output_type": "stream",
     "text": [
      "Example:- \n",
      "Original data shape: [[1 0 1 1 0]\n",
      " [0 1 0 0 1]\n",
      " [1 1 1 0 0]]\n",
      "Transformed data shape: [[1 1 0 0 1 1 1 1 0 0]\n",
      " [0 0 1 1 0 0 0 0 1 1]\n",
      " [1 1 1 1 1 1 0 0 0 0]]\n"
     ]
    }
   ],
   "source": [
    "def transform_pattern(pattern):\n",
    "    return np.repeat(pattern, 2)\n",
    "\n",
    "print(\"Example:- \")\n",
    "original_data = np.array([\n",
    "    [1, 0, 1, 1, 0],\n",
    "    [0, 1, 0, 0, 1],\n",
    "    [1, 1, 1, 0, 0]\n",
    "])\n",
    "# Transform the dataset\n",
    "transformed_data = np.array([transform_pattern(row) for row in original_data])\n",
    "print(\"Original data shape:\", original_data)  # (3, 5)\n",
    "print(\"Transformed data shape:\", transformed_data)  # (3, 10)"
   ]
  },
  {
   "cell_type": "code",
   "execution_count": 1994,
   "metadata": {},
   "outputs": [
    {
     "name": "stdout",
     "output_type": "stream",
     "text": [
      "probability: 0.94\n"
     ]
    },
    {
     "data": {
      "image/png": "[encoded data removed]",
      "text/plain": [
       "<Figure size 640x480 with 1 Axes>"
      ]
     },
     "metadata": {},
     "output_type": "display_data"
    }
   ],
   "source": [
    "transformed_data = np.array([transform_pattern(row) for row in X_orig])\n",
    "W=generate_bipolar_weight(X)\n",
    "#print(W)\n",
    "plt.subplot(121); plt.imshow(W, cmap='gray'); plt.axis('off');\n",
    "\n",
    "probability=evaluate_probability(50)\n",
    "print(\"probability: \"+str(probability))"
   ]
  }
 ],
 "metadata": {
  "kernelspec": {
   "display_name": "hopfield",
   "language": "python",
   "name": "python3"
  },
  "language_info": {
   "codemirror_mode": {
    "name": "ipython",
    "version": 3
   },
   "file_extension": ".py",
   "mimetype": "text/x-python",
   "name": "python",
   "nbconvert_exporter": "python",
   "pygments_lexer": "ipython3",
   "version": "3.12.3"
  }
 },
 "nbformat": 4,
 "nbformat_minor": 2
}
