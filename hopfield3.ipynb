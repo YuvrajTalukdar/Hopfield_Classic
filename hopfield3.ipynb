{
 "cells": [
  {
   "cell_type": "markdown",
   "metadata": {},
   "source": [
    "## Classical Hopfield Network Demonstration on MNIST \n",
    "\n",
    "this notebook has bugs"
   ]
  },
  {
   "cell_type": "code",
   "execution_count": 5,
   "metadata": {},
   "outputs": [],
   "source": [
    "import numpy as np\n",
    "import pandas as pd\n",
    "import matplotlib.pyplot as plt\n",
    "import copy"
   ]
  },
  {
   "cell_type": "markdown",
   "metadata": {},
   "source": [
    "Some Useful Functions"
   ]
  },
  {
   "cell_type": "code",
   "execution_count": 12,
   "metadata": {},
   "outputs": [
    {
     "data": {
      "image/png": "[encoded data removed]",
      "text/plain": [
       "<Figure size 640x480 with 2 Axes>"
      ]
     },
     "metadata": {},
     "output_type": "display_data"
    }
   ],
   "source": [
    "\n",
    "#from sklearn.datasets import fetch_openml\n",
    "from sklearn.preprocessing import binarize\n",
    "\n",
    "# Function to sample with handling for labels with fewer than 10 samples\n",
    "def safe_sample(group, n):\n",
    "    if len(group) < n:\n",
    "        return group\n",
    "    return group.sample(n=n, random_state=1)\n",
    "\n",
    "# Load MNIST dataset\n",
    "def load_mnist():\n",
    "    data = pd.read_csv('./mnist_test.csv')\n",
    "    y = data.iloc[:, 0].values  # Labels\n",
    "    X = data.iloc[:, 1:].values / 255.0  # Normalize pixel values\n",
    "    return X, y\n",
    "\n",
    "# Binarize the images\n",
    "def binarize_images(X):\n",
    "    X_bin = binarize(X, threshold=0.5)\n",
    "    return X_bin\n",
    "\n",
    "# Hopfield Network Class\n",
    "class HopfieldNetwork:\n",
    "    def __init__(self, n_features):\n",
    "        self.n_features = n_features\n",
    "        self.weights = np.zeros((n_features, n_features))\n",
    "    \n",
    "    def train(self, patterns):\n",
    "        n_patterns = patterns.shape[0]\n",
    "        for p in patterns:\n",
    "            self.weights += np.outer(p, p)\n",
    "        self.weights[np.diag_indices(self.n_features)] = 0\n",
    "        self.weights /= n_patterns\n",
    "    \n",
    "    def predict(self, pattern, max_steps=100):\n",
    "        s = np.copy(pattern)\n",
    "        for _ in range(max_steps):\n",
    "            for i in range(self.n_features):\n",
    "                s[i] = 1 if np.dot(self.weights[i], s) >= 0 else -1\n",
    "        return s\n",
    "\n",
    "# Test Hopfield network with MNIST\n",
    "def test_hopfield_network():\n",
    "    X, y = load_mnist()\n",
    "    X_bin = binarize_images(X)\n",
    "    X_bin[X_bin == 0] = -1  # Convert to -1 and 1\n",
    "\n",
    "    # Using a small subset of MNIST for training\n",
    "    n_train = 2\n",
    "    train_patterns = X_bin[:n_train]\n",
    "\n",
    "    hopfield_net = HopfieldNetwork(n_features=784)\n",
    "    hopfield_net.train(train_patterns)\n",
    "\n",
    "    test_image = X_bin[236]\n",
    "    reconstructed_image = hopfield_net.predict(test_image)\n",
    "\n",
    "    # Plot original and reconstructed images\n",
    "    plt.subplot(1, 2, 1)\n",
    "    plt.title(\"Original Image\")\n",
    "    plt.imshow(test_image.reshape(28, 28), cmap='gray')\n",
    "\n",
    "    plt.subplot(1, 2, 2)\n",
    "    plt.title(\"Reconstructed Image\")\n",
    "    plt.imshow(reconstructed_image.reshape(28, 28), cmap='gray')\n",
    "\n",
    "    plt.show()\n",
    "\n",
    "# Run the test\n",
    "test_hopfield_network()\n"
   ]
  }
 ],
 "metadata": {
  "kernelspec": {
   "display_name": "hopfield",
   "language": "python",
   "name": "python3"
  },
  "language_info": {
   "codemirror_mode": {
    "name": "ipython",
    "version": 3
   },
   "file_extension": ".py",
   "mimetype": "text/x-python",
   "name": "python",
   "nbconvert_exporter": "python",
   "pygments_lexer": "ipython3",
   "version": "3.12.3"
  }
 },
 "nbformat": 4,
 "nbformat_minor": 2
}
